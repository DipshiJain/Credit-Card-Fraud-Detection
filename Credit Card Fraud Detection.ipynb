{
 "cells": [
  {
   "cell_type": "markdown",
   "id": "a3839381",
   "metadata": {},
   "source": [
    "### Importing Important libraries"
   ]
  },
  {
   "cell_type": "code",
   "execution_count": null,
   "id": "d248ca29",
   "metadata": {},
   "outputs": [],
   "source": [
    "import pandas as pd\n",
    "import plotly.express as px\n",
    "import plotly.offline\n",
    "import matplotlib.pyplot as plt\n",
    "import cufflinks as cf\n",
    "import seaborn as sns\n",
    "from sklearn.model_selection import train_test_split\n",
    "from sklearn.linear_model import LogisticRegression\n",
    "from sklearn.metrics import accuracy_score\n",
    "%matplotlib inline\n",
    "cf.go_offline()\n",
    "cf.set_config_file(offline = False, world_readable = True)"
   ]
  },
  {
   "cell_type": "markdown",
   "id": "bd8445fc",
   "metadata": {},
   "source": [
    "### Importing Dataset"
   ]
  },
  {
   "cell_type": "code",
   "execution_count": null,
   "id": "8db6e689",
   "metadata": {},
   "outputs": [],
   "source": [
    "df = pd.read_csv(r\"C:\\Users\\DELL\\Downloads\\archive2\\creditcard.csv\")"
   ]
  },
  {
   "cell_type": "markdown",
   "id": "582087b5",
   "metadata": {},
   "source": [
    "### Getting Insights of the data "
   ]
  },
  {
   "cell_type": "code",
   "execution_count": null,
   "id": "ea9529ba",
   "metadata": {},
   "outputs": [],
   "source": [
    "df.head()"
   ]
  },
  {
   "cell_type": "code",
   "execution_count": null,
   "id": "95067634",
   "metadata": {},
   "outputs": [],
   "source": [
    "df.info()"
   ]
  },
  {
   "cell_type": "markdown",
   "id": "05867616",
   "metadata": {},
   "source": [
    "### Checking for missing values"
   ]
  },
  {
   "cell_type": "code",
   "execution_count": null,
   "id": "d4f5c588",
   "metadata": {},
   "outputs": [],
   "source": [
    "df.isnull().sum()"
   ]
  },
  {
   "cell_type": "markdown",
   "id": "8d47761e",
   "metadata": {},
   "source": [
    "### Removing duplicates from the dataset "
   ]
  },
  {
   "cell_type": "code",
   "execution_count": null,
   "id": "244f0508",
   "metadata": {},
   "outputs": [],
   "source": [
    "df.drop_duplicates(inplace = True)"
   ]
  },
  {
   "cell_type": "markdown",
   "id": "39d73382",
   "metadata": {},
   "source": [
    "#### Checking Dispersion in amount "
   ]
  },
  {
   "cell_type": "code",
   "execution_count": null,
   "id": "c58e7ddd",
   "metadata": {},
   "outputs": [],
   "source": [
    "df['Amount'].describe()"
   ]
  },
  {
   "cell_type": "code",
   "execution_count": null,
   "id": "ef994719",
   "metadata": {},
   "outputs": [],
   "source": [
    "sns.distplot(df['Amount']).set_title(\"Checking Dispersion in amount\")"
   ]
  },
  {
   "cell_type": "code",
   "execution_count": null,
   "id": "e6f92ba1",
   "metadata": {},
   "outputs": [],
   "source": [
    "fig2 = px.histogram(df, x = \"Amount\",  y = df.index, color = \"Class\", marginal = \"box\", opacity = 0.5, histfunc = \"count\", barmode = 'group')\n",
    "fig2.show()"
   ]
  },
  {
   "cell_type": "code",
   "execution_count": null,
   "id": "fe34139a",
   "metadata": {},
   "outputs": [],
   "source": [
    "fig3 = px.line(df, x = \"Time\", y = \"Amount\", color = \"Class\")\n",
    "fig3.show()"
   ]
  },
  {
   "cell_type": "markdown",
   "id": "c955ea34",
   "metadata": {},
   "source": [
    "### Getting info about class column "
   ]
  },
  {
   "cell_type": "code",
   "execution_count": null,
   "id": "b14ad10e",
   "metadata": {},
   "outputs": [],
   "source": [
    "df['Class'].value_counts()"
   ]
  },
  {
   "cell_type": "markdown",
   "id": "795392c4",
   "metadata": {},
   "source": [
    "### Separating the data into normal and fraud ransactions to get more insigths "
   ]
  },
  {
   "cell_type": "code",
   "execution_count": null,
   "id": "0b3552b0",
   "metadata": {},
   "outputs": [],
   "source": [
    "normal = df[df['Class'] == 0]\n",
    "fraud = df[df['Class'] == 1]"
   ]
  },
  {
   "cell_type": "markdown",
   "id": "da4610b6",
   "metadata": {},
   "source": [
    "### Getting insights of the separated data "
   ]
  },
  {
   "cell_type": "code",
   "execution_count": null,
   "id": "114cd202",
   "metadata": {},
   "outputs": [],
   "source": [
    "normal.head()"
   ]
  },
  {
   "cell_type": "code",
   "execution_count": null,
   "id": "1c4dbc3e",
   "metadata": {},
   "outputs": [],
   "source": [
    "fraud.head()"
   ]
  },
  {
   "cell_type": "code",
   "execution_count": null,
   "id": "923ba582",
   "metadata": {},
   "outputs": [],
   "source": [
    "print(f\"normal_shape: {normal.shape},\\nfraud_shape: {fraud.shape}\")"
   ]
  },
  {
   "cell_type": "markdown",
   "id": "1fe3f336",
   "metadata": {},
   "source": [
    "#### Checking Dispersion in amount "
   ]
  },
  {
   "cell_type": "code",
   "execution_count": null,
   "id": "a4ec2fd4",
   "metadata": {},
   "outputs": [],
   "source": [
    "normal['Amount'].describe()"
   ]
  },
  {
   "cell_type": "code",
   "execution_count": null,
   "id": "f88840e9",
   "metadata": {},
   "outputs": [],
   "source": [
    "fraud['Amount'].describe()"
   ]
  },
  {
   "cell_type": "code",
   "execution_count": null,
   "id": "b9bddfaf",
   "metadata": {},
   "outputs": [],
   "source": [
    "sns.distplot(normal['Amount']).set_title(\"Checking Dispersion in amount in normal dataset\")"
   ]
  },
  {
   "cell_type": "code",
   "execution_count": null,
   "id": "8ee667fd",
   "metadata": {},
   "outputs": [],
   "source": [
    "sns.distplot(fraud['Amount']).set_title(\"Checking Dispersion in amount in fraud dataset\")"
   ]
  },
  {
   "cell_type": "code",
   "execution_count": null,
   "id": "996c8e0a",
   "metadata": {},
   "outputs": [],
   "source": [
    "fig6 = px.histogram(normal, x = \"Amount\",  y = normal.index , marginal = \"box\", opacity = 0.5, histfunc = \"count\")\n",
    "fig6.show()"
   ]
  },
  {
   "cell_type": "code",
   "execution_count": null,
   "id": "75fef69a",
   "metadata": {},
   "outputs": [],
   "source": [
    "fig7 = px.histogram(fraud, x = \"Amount\",  y = fraud.index , marginal = \"violin\", opacity = 0.5, histfunc = \"count\")\n",
    "fig7.show()"
   ]
  },
  {
   "cell_type": "markdown",
   "id": "bad0a0f4",
   "metadata": {},
   "source": [
    "### Splitting the data into train and test"
   ]
  },
  {
   "cell_type": "code",
   "execution_count": null,
   "id": "d455764b",
   "metadata": {},
   "outputs": [],
   "source": [
    "X = df.drop(columns = ['Class', 'Time'], axis = 1)"
   ]
  },
  {
   "cell_type": "code",
   "execution_count": null,
   "id": "82d024a8",
   "metadata": {},
   "outputs": [],
   "source": [
    "y = df['Class']"
   ]
  },
  {
   "cell_type": "code",
   "execution_count": null,
   "id": "18d601d3",
   "metadata": {},
   "outputs": [],
   "source": [
    "X_train, X_test, y_train, y_test = train_test_split(X, y, test_size = 0.25, random_state = 2)"
   ]
  },
  {
   "cell_type": "code",
   "execution_count": null,
   "id": "4583d4dc",
   "metadata": {},
   "outputs": [],
   "source": [
    "print(X.shape, X_train.shape, X_test.shape)"
   ]
  },
  {
   "cell_type": "code",
   "execution_count": null,
   "id": "031de078",
   "metadata": {},
   "outputs": [],
   "source": [
    "print(y.shape, y_train.shape, y_test.shape)"
   ]
  },
  {
   "cell_type": "markdown",
   "id": "32594ba1",
   "metadata": {},
   "source": [
    "### Detection Model Training Using Logictic Regression"
   ]
  },
  {
   "cell_type": "code",
   "execution_count": null,
   "id": "2e35ae3e",
   "metadata": {},
   "outputs": [],
   "source": [
    "lr = LogisticRegression()"
   ]
  },
  {
   "cell_type": "code",
   "execution_count": null,
   "id": "c1df5424",
   "metadata": {},
   "outputs": [],
   "source": [
    "lr.fit(X_train, y_train)"
   ]
  },
  {
   "cell_type": "markdown",
   "id": "b50ec24b",
   "metadata": {},
   "source": [
    "### Checking the accuracy of the model on train data"
   ]
  },
  {
   "cell_type": "code",
   "execution_count": null,
   "id": "d1b195de",
   "metadata": {},
   "outputs": [],
   "source": [
    "X_train_pred = lr.predict(X_train)\n",
    "print(\"Accuracy score on training data is \", accuracy_score(X_train_pred, y_train))"
   ]
  },
  {
   "cell_type": "markdown",
   "id": "2089558d",
   "metadata": {},
   "source": [
    "### Checking the accuracy of the model on test data"
   ]
  },
  {
   "cell_type": "code",
   "execution_count": null,
   "id": "08d9570a",
   "metadata": {},
   "outputs": [],
   "source": [
    "X_test_pred = lr.predict(X_test)\n",
    "print(\"Accuracy score on testing data is \", accuracy_score(X_test_pred, y_test))"
   ]
  },
  {
   "cell_type": "code",
   "execution_count": null,
   "id": "8be715a8",
   "metadata": {},
   "outputs": [],
   "source": []
  }
 ],
 "metadata": {
  "kernelspec": {
   "display_name": "Python 3",
   "language": "python",
   "name": "python3"
  },
  "language_info": {
   "codemirror_mode": {
    "name": "ipython",
    "version": 3
   },
   "file_extension": ".py",
   "mimetype": "text/x-python",
   "name": "python",
   "nbconvert_exporter": "python",
   "pygments_lexer": "ipython3",
   "version": "3.9.4"
  }
 },
 "nbformat": 4,
 "nbformat_minor": 5
}
